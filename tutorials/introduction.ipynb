{
 "cells": [
  {
   "cell_type": "markdown",
   "metadata": {},
   "source": [
    "<a href=\"https://github.com/kennethenevoldsen/asent\"><img src=\"https://github.com/KennethEnevoldsen/asent/blob/main/docs/img/logo_black_font.png?raw=true\" width=\"300\" /></a>"
   ]
  },
  {
   "cell_type": "markdown",
   "metadata": {},
   "source": [
    "## Installation\n",
    "Before we start we should install asent this can be done simply by commenting the following lines out:"
   ]
  },
  {
   "cell_type": "code",
   "execution_count": 3,
   "metadata": {},
   "outputs": [
    {
     "output_type": "stream",
     "name": "stdout",
     "text": "Defaulting to user installation because normal site-packages is not writeable\nCollecting asent\n  Downloading asent-0.1.3-py3-none-any.whl (241 kB)\n\u001b[K     |████████████████████████████████| 241 kB 4.5 MB/s \n\u001b[?25hRequirement already satisfied: spacy<3.3.0,>=3.0.0 in /home/coder/.local/lib/python3.7/site-packages (from asent) (3.2.1)\nRequirement already satisfied: matplotlib<4.0.0,>=3.5.0 in /home/coder/.local/lib/python3.7/site-packages (from asent) (3.5.1)\nRequirement already satisfied: numpy>=1.15.0 in /home/coder/.local/lib/python3.7/site-packages (from spacy<3.3.0,>=3.0.0->asent) (1.19.1)\nRequirement already satisfied: tqdm<5.0.0,>=4.38.0 in /home/coder/.local/lib/python3.7/site-packages (from spacy<3.3.0,>=3.0.0->asent) (4.49.0)\nRequirement already satisfied: setuptools in /usr/lib/python3/dist-packages (from spacy<3.3.0,>=3.0.0->asent) (40.8.0)\nRequirement already satisfied: spacy-loggers<2.0.0,>=1.0.0 in /home/coder/.local/lib/python3.7/site-packages (from spacy<3.3.0,>=3.0.0->asent) (1.0.1)\nRequirement already satisfied: srsly<3.0.0,>=2.4.1 in /home/coder/.local/lib/python3.7/site-packages (from spacy<3.3.0,>=3.0.0->asent) (2.4.2)\nRequirement already satisfied: pathy>=0.3.5 in /home/coder/.local/lib/python3.7/site-packages (from spacy<3.3.0,>=3.0.0->asent) (0.6.1)\nRequirement already satisfied: pydantic!=1.8,!=1.8.1,<1.9.0,>=1.7.4 in /home/coder/.local/lib/python3.7/site-packages (from spacy<3.3.0,>=3.0.0->asent) (1.8.2)\nRequirement already satisfied: cymem<2.1.0,>=2.0.2 in /home/coder/.local/lib/python3.7/site-packages (from spacy<3.3.0,>=3.0.0->asent) (2.0.6)\nRequirement already satisfied: packaging>=20.0 in /home/coder/.local/lib/python3.7/site-packages (from spacy<3.3.0,>=3.0.0->asent) (20.4)\nRequirement already satisfied: typer<0.5.0,>=0.3.0 in /home/coder/.local/lib/python3.7/site-packages (from spacy<3.3.0,>=3.0.0->asent) (0.4.0)\nRequirement already satisfied: wasabi<1.1.0,>=0.8.1 in /home/coder/.local/lib/python3.7/site-packages (from spacy<3.3.0,>=3.0.0->asent) (0.9.0)\nRequirement already satisfied: jinja2 in /home/coder/.local/lib/python3.7/site-packages (from spacy<3.3.0,>=3.0.0->asent) (2.11.2)\nRequirement already satisfied: murmurhash<1.1.0,>=0.28.0 in /home/coder/.local/lib/python3.7/site-packages (from spacy<3.3.0,>=3.0.0->asent) (1.0.6)\nRequirement already satisfied: thinc<8.1.0,>=8.0.12 in /home/coder/.local/lib/python3.7/site-packages (from spacy<3.3.0,>=3.0.0->asent) (8.0.13)\nRequirement already satisfied: langcodes<4.0.0,>=3.2.0 in /home/coder/.local/lib/python3.7/site-packages (from spacy<3.3.0,>=3.0.0->asent) (3.3.0)\nRequirement already satisfied: spacy-legacy<3.1.0,>=3.0.8 in /home/coder/.local/lib/python3.7/site-packages (from spacy<3.3.0,>=3.0.0->asent) (3.0.8)\nRequirement already satisfied: typing-extensions<4.0.0.0,>=3.7.4; python_version < \"3.8\" in /home/coder/.local/lib/python3.7/site-packages (from spacy<3.3.0,>=3.0.0->asent) (3.10.0.2)\nRequirement already satisfied: blis<0.8.0,>=0.4.0 in /home/coder/.local/lib/python3.7/site-packages (from spacy<3.3.0,>=3.0.0->asent) (0.7.5)\nRequirement already satisfied: catalogue<2.1.0,>=2.0.6 in /home/coder/.local/lib/python3.7/site-packages (from spacy<3.3.0,>=3.0.0->asent) (2.0.6)\nRequirement already satisfied: requests<3.0.0,>=2.13.0 in /home/coder/.local/lib/python3.7/site-packages (from spacy<3.3.0,>=3.0.0->asent) (2.24.0)\nRequirement already satisfied: preshed<3.1.0,>=3.0.2 in /home/coder/.local/lib/python3.7/site-packages (from spacy<3.3.0,>=3.0.0->asent) (3.0.6)\nRequirement already satisfied: kiwisolver>=1.0.1 in /home/coder/.local/lib/python3.7/site-packages (from matplotlib<4.0.0,>=3.5.0->asent) (1.2.0)\nRequirement already satisfied: cycler>=0.10 in /home/coder/.local/lib/python3.7/site-packages (from matplotlib<4.0.0,>=3.5.0->asent) (0.10.0)\nRequirement already satisfied: pillow>=6.2.0 in /home/coder/.local/lib/python3.7/site-packages (from matplotlib<4.0.0,>=3.5.0->asent) (7.2.0)\nRequirement already satisfied: fonttools>=4.22.0 in /home/coder/.local/lib/python3.7/site-packages (from matplotlib<4.0.0,>=3.5.0->asent) (4.28.5)\nRequirement already satisfied: pyparsing>=2.2.1 in /home/coder/.local/lib/python3.7/site-packages (from matplotlib<4.0.0,>=3.5.0->asent) (2.4.7)\nRequirement already satisfied: python-dateutil>=2.7 in /home/coder/.local/lib/python3.7/site-packages (from matplotlib<4.0.0,>=3.5.0->asent) (2.8.1)\nRequirement already satisfied: smart-open<6.0.0,>=5.0.0 in /home/coder/.local/lib/python3.7/site-packages (from pathy>=0.3.5->spacy<3.3.0,>=3.0.0->asent) (5.2.1)\nRequirement already satisfied: six in /usr/lib/python3/dist-packages (from packaging>=20.0->spacy<3.3.0,>=3.0.0->asent) (1.12.0)\nRequirement already satisfied: click<9.0.0,>=7.1.1 in /home/coder/.local/lib/python3.7/site-packages (from typer<0.5.0,>=0.3.0->spacy<3.3.0,>=3.0.0->asent) (7.1.2)\nRequirement already satisfied: MarkupSafe>=0.23 in /home/coder/.local/lib/python3.7/site-packages (from jinja2->spacy<3.3.0,>=3.0.0->asent) (1.1.1)\nRequirement already satisfied: zipp>=0.5; python_version < \"3.8\" in /home/coder/.local/lib/python3.7/site-packages (from catalogue<2.1.0,>=2.0.6->spacy<3.3.0,>=3.0.0->asent) (3.1.0)\nRequirement already satisfied: chardet<4,>=3.0.2 in /home/coder/.local/lib/python3.7/site-packages (from requests<3.0.0,>=2.13.0->spacy<3.3.0,>=3.0.0->asent) (3.0.4)\nRequirement already satisfied: urllib3!=1.25.0,!=1.25.1,<1.26,>=1.21.1 in /home/coder/.local/lib/python3.7/site-packages (from requests<3.0.0,>=2.13.0->spacy<3.3.0,>=3.0.0->asent) (1.25.10)\nRequirement already satisfied: idna<3,>=2.5 in /home/coder/.local/lib/python3.7/site-packages (from requests<3.0.0,>=2.13.0->spacy<3.3.0,>=3.0.0->asent) (2.10)\nRequirement already satisfied: certifi>=2017.4.17 in /home/coder/.local/lib/python3.7/site-packages (from requests<3.0.0,>=2.13.0->spacy<3.3.0,>=3.0.0->asent) (2020.6.20)\nInstalling collected packages: asent\nSuccessfully installed asent-0.1.3\n\u001b[33mWARNING: You are using pip version 20.2.3; however, version 21.3.1 is available.\nYou should consider upgrading via the '/usr/bin/python3.7 -m pip install --upgrade pip' command.\u001b[0m\nDefaulting to user installation because normal site-packages is not writeable\nCollecting en-core-web-lg==3.2.0\n  Downloading https://github.com/explosion/spacy-models/releases/download/en_core_web_lg-3.2.0/en_core_web_lg-3.2.0-py3-none-any.whl (777.4 MB)\n\u001b[K     |████████████████████████████████| 777.4 MB 16 kB/s \n\u001b[?25hRequirement already satisfied: spacy<3.3.0,>=3.2.0 in /home/coder/.local/lib/python3.7/site-packages (from en-core-web-lg==3.2.0) (3.2.1)\nRequirement already satisfied: catalogue<2.1.0,>=2.0.6 in /home/coder/.local/lib/python3.7/site-packages (from spacy<3.3.0,>=3.2.0->en-core-web-lg==3.2.0) (2.0.6)\nRequirement already satisfied: cymem<2.1.0,>=2.0.2 in /home/coder/.local/lib/python3.7/site-packages (from spacy<3.3.0,>=3.2.0->en-core-web-lg==3.2.0) (2.0.6)\nRequirement already satisfied: wasabi<1.1.0,>=0.8.1 in /home/coder/.local/lib/python3.7/site-packages (from spacy<3.3.0,>=3.2.0->en-core-web-lg==3.2.0) (0.9.0)\nRequirement already satisfied: langcodes<4.0.0,>=3.2.0 in /home/coder/.local/lib/python3.7/site-packages (from spacy<3.3.0,>=3.2.0->en-core-web-lg==3.2.0) (3.3.0)\nRequirement already satisfied: setuptools in /usr/lib/python3/dist-packages (from spacy<3.3.0,>=3.2.0->en-core-web-lg==3.2.0) (40.8.0)\nRequirement already satisfied: tqdm<5.0.0,>=4.38.0 in /home/coder/.local/lib/python3.7/site-packages (from spacy<3.3.0,>=3.2.0->en-core-web-lg==3.2.0) (4.49.0)\nRequirement already satisfied: thinc<8.1.0,>=8.0.12 in /home/coder/.local/lib/python3.7/site-packages (from spacy<3.3.0,>=3.2.0->en-core-web-lg==3.2.0) (8.0.13)\nRequirement already satisfied: numpy>=1.15.0 in /home/coder/.local/lib/python3.7/site-packages (from spacy<3.3.0,>=3.2.0->en-core-web-lg==3.2.0) (1.19.1)\nRequirement already satisfied: preshed<3.1.0,>=3.0.2 in /home/coder/.local/lib/python3.7/site-packages (from spacy<3.3.0,>=3.2.0->en-core-web-lg==3.2.0) (3.0.6)\nRequirement already satisfied: pydantic!=1.8,!=1.8.1,<1.9.0,>=1.7.4 in /home/coder/.local/lib/python3.7/site-packages (from spacy<3.3.0,>=3.2.0->en-core-web-lg==3.2.0) (1.8.2)\nRequirement already satisfied: spacy-loggers<2.0.0,>=1.0.0 in /home/coder/.local/lib/python3.7/site-packages (from spacy<3.3.0,>=3.2.0->en-core-web-lg==3.2.0) (1.0.1)\nRequirement already satisfied: pathy>=0.3.5 in /home/coder/.local/lib/python3.7/site-packages (from spacy<3.3.0,>=3.2.0->en-core-web-lg==3.2.0) (0.6.1)\nRequirement already satisfied: murmurhash<1.1.0,>=0.28.0 in /home/coder/.local/lib/python3.7/site-packages (from spacy<3.3.0,>=3.2.0->en-core-web-lg==3.2.0) (1.0.6)\nRequirement already satisfied: requests<3.0.0,>=2.13.0 in /home/coder/.local/lib/python3.7/site-packages (from spacy<3.3.0,>=3.2.0->en-core-web-lg==3.2.0) (2.24.0)\nRequirement already satisfied: spacy-legacy<3.1.0,>=3.0.8 in /home/coder/.local/lib/python3.7/site-packages (from spacy<3.3.0,>=3.2.0->en-core-web-lg==3.2.0) (3.0.8)\nRequirement already satisfied: srsly<3.0.0,>=2.4.1 in /home/coder/.local/lib/python3.7/site-packages (from spacy<3.3.0,>=3.2.0->en-core-web-lg==3.2.0) (2.4.2)\nRequirement already satisfied: typing-extensions<4.0.0.0,>=3.7.4; python_version < \"3.8\" in /home/coder/.local/lib/python3.7/site-packages (from spacy<3.3.0,>=3.2.0->en-core-web-lg==3.2.0) (3.10.0.2)\nRequirement already satisfied: blis<0.8.0,>=0.4.0 in /home/coder/.local/lib/python3.7/site-packages (from spacy<3.3.0,>=3.2.0->en-core-web-lg==3.2.0) (0.7.5)\nRequirement already satisfied: jinja2 in /home/coder/.local/lib/python3.7/site-packages (from spacy<3.3.0,>=3.2.0->en-core-web-lg==3.2.0) (2.11.2)\nRequirement already satisfied: typer<0.5.0,>=0.3.0 in /home/coder/.local/lib/python3.7/site-packages (from spacy<3.3.0,>=3.2.0->en-core-web-lg==3.2.0) (0.4.0)\nRequirement already satisfied: packaging>=20.0 in /home/coder/.local/lib/python3.7/site-packages (from spacy<3.3.0,>=3.2.0->en-core-web-lg==3.2.0) (20.4)\nRequirement already satisfied: zipp>=0.5; python_version < \"3.8\" in /home/coder/.local/lib/python3.7/site-packages (from catalogue<2.1.0,>=2.0.6->spacy<3.3.0,>=3.2.0->en-core-web-lg==3.2.0) (3.1.0)\nRequirement already satisfied: smart-open<6.0.0,>=5.0.0 in /home/coder/.local/lib/python3.7/site-packages (from pathy>=0.3.5->spacy<3.3.0,>=3.2.0->en-core-web-lg==3.2.0) (5.2.1)\nRequirement already satisfied: urllib3!=1.25.0,!=1.25.1,<1.26,>=1.21.1 in /home/coder/.local/lib/python3.7/site-packages (from requests<3.0.0,>=2.13.0->spacy<3.3.0,>=3.2.0->en-core-web-lg==3.2.0) (1.25.10)\nRequirement already satisfied: idna<3,>=2.5 in /home/coder/.local/lib/python3.7/site-packages (from requests<3.0.0,>=2.13.0->spacy<3.3.0,>=3.2.0->en-core-web-lg==3.2.0) (2.10)\nRequirement already satisfied: chardet<4,>=3.0.2 in /home/coder/.local/lib/python3.7/site-packages (from requests<3.0.0,>=2.13.0->spacy<3.3.0,>=3.2.0->en-core-web-lg==3.2.0) (3.0.4)\nRequirement already satisfied: certifi>=2017.4.17 in /home/coder/.local/lib/python3.7/site-packages (from requests<3.0.0,>=2.13.0->spacy<3.3.0,>=3.2.0->en-core-web-lg==3.2.0) (2020.6.20)\nRequirement already satisfied: MarkupSafe>=0.23 in /home/coder/.local/lib/python3.7/site-packages (from jinja2->spacy<3.3.0,>=3.2.0->en-core-web-lg==3.2.0) (1.1.1)\nRequirement already satisfied: click<9.0.0,>=7.1.1 in /home/coder/.local/lib/python3.7/site-packages (from typer<0.5.0,>=0.3.0->spacy<3.3.0,>=3.2.0->en-core-web-lg==3.2.0) (7.1.2)\nRequirement already satisfied: pyparsing>=2.0.2 in /home/coder/.local/lib/python3.7/site-packages (from packaging>=20.0->spacy<3.3.0,>=3.2.0->en-core-web-lg==3.2.0) (2.4.7)\nRequirement already satisfied: six in /usr/lib/python3/dist-packages (from packaging>=20.0->spacy<3.3.0,>=3.2.0->en-core-web-lg==3.2.0) (1.12.0)\nInstalling collected packages: en-core-web-lg\nSuccessfully installed en-core-web-lg-3.2.0\n\u001b[33mWARNING: You are using pip version 20.2.3; however, version 21.3.1 is available.\nYou should consider upgrading via the '/usr/bin/python -m pip install --upgrade pip' command.\u001b[0m\n\u001b[38;5;2m✔ Download and installation successful\u001b[0m\nYou can now load the package via spacy.load('en_core_web_lg')\n"
    }
   ],
   "source": [
    "!pip install asent\n",
    "!python -m spacy download en_core_web_lg"
   ]
  },
  {
   "cell_type": "markdown",
   "metadata": {},
   "source": [
    "# Tutorial\n",
    "\n",
    "> *Note*: This tutorial is English but the library also allows for multiple other languages to see all languages available check out the [Languages section](https://kennethenevoldsen.github.io/asent/languages/index.html) on the website.\n",
    "\n",
    "Asent is a package for fast and transparent sentiment analysis. The package applied uses a dictionary of words rated as either positive or negative and a series of rules to determine whether a word, sentence or a document is positive or negative. The current rules account for negations (i.e. \"not happy\"), intensifiers (\"very happy\") and account for contrastive conjugations (i.e. \"but\") as well as other emphasis markers such as exclamation marks, casing and question marks. The following will take you through how the sentiment is calculated in a step by step fashion.\n",
    "\n",
    "To start of with we will need a spaCy pipeline as well as we will need to add the asent pipeline `asent_en_v1` to it, where `en` indicate that it is the English pipeline and that `v1` indicate that it is version 1.\n"
   ]
  },
  {
   "cell_type": "code",
   "execution_count": 4,
   "metadata": {},
   "outputs": [
    {
     "output_type": "execute_result",
     "data": {
      "text/plain": "<asent.component.Asent at 0x7fb670951dd8>"
     },
     "metadata": {},
     "execution_count": 4
    }
   ],
   "source": [
    "import asent\n",
    "import spacy\n",
    "\n",
    "# load spacy pipeline\n",
    "nlp = spacy.load(\"en_core_web_lg\")\n",
    "\n",
    "# add the rule-based sentiment model\n",
    "nlp.add_pipe(\"asent_en_v1\")"
   ]
  },
  {
   "cell_type": "markdown",
   "metadata": {},
   "source": [
    "If you want to see all the available components you can simply run:"
   ]
  },
  {
   "cell_type": "code",
   "execution_count": 5,
   "metadata": {},
   "outputs": [
    {
     "output_type": "stream",
     "name": "stdout",
     "text": "asent_da_v1\nasent_en_v1\nasent_no_v1\nasent_sv_v1\n"
    }
   ],
   "source": [
    "for c in asent.components.get_all():\n",
    "    print(c)"
   ]
  },
  {
   "cell_type": "markdown",
   "metadata": {},
   "source": [
    "## Token valence and polarity\n",
    "As seen in figure 1. token valence is simply the value gained from a lookup in a rated dictionary. For instance if the have the example sentence \"I am not very happy\" the word \"happy\" has a positive human rating of 2.7 which is not amplified by the word being in all-caps.\n",
    "\n",
    "\n",
    "<h3 align=\"center\">\n",
    "<figure>\n",
    "<img src=\"https://raw.githubusercontent.com/KennethEnevoldsen/asent/main/docs/img/token_polarity.png\" width=\"700\" />\n",
    "</figure>\n",
    "  <small>\n",
    "  Figure 1: Calculation of token polarity and valence\n",
    "  </small>\n",
    "</h3>\n",
    "\n",
    "We can extract valence quite easily using the `valence` extension:"
   ]
  },
  {
   "cell_type": "code",
   "execution_count": 6,
   "metadata": {},
   "outputs": [
    {
     "output_type": "stream",
     "name": "stdout",
     "text": "I \t 0.0\nam \t 0.0\nnot \t 0.0\nvery \t 0.0\nhappy \t 2.7\n. \t 0.0\n"
    }
   ],
   "source": [
    "doc = nlp(\"I am not very happy.\")\n",
    "\n",
    "for token in doc:\n",
    "    print(token, \"\\t\", token._.valence)"
   ]
  },
  {
   "cell_type": "markdown",
   "metadata": {},
   "source": [
    "Naturally, in this context happy should not be perceived positively as it is negated, thus we should look at token polarity. Token polarity examines if a word is negated and, if so, multiplies the values by a negative constant. This constant is emperically derived to be 0.74 [(Hutto and Gilbert, 2014)](https://ojs.aaai.org/index.php/ICWSM/article/view/14550). Similarly with the specific example we chose we can also see that \"happy\" is intensified by the word \"very\", while increases it polarity. The constant 0.293 is also emperically derived by Hutto and Gilbert. We can similarly extract the polarity using the `polarity` extension:"
   ]
  },
  {
   "cell_type": "code",
   "execution_count": 7,
   "metadata": {},
   "outputs": [
    {
     "output_type": "stream",
     "name": "stdout",
     "text": "polarity=0.0 token=I span=I\npolarity=0.0 token=am span=am\npolarity=0.0 token=not span=not\npolarity=0.0 token=very span=very\npolarity=-2.215 token=happy span=not very happy\npolarity=0.0 token=. span=.\n"
    }
   ],
   "source": [
    "for token in doc:\n",
    "    print(token._.polarity)"
   ]
  },
  {
   "cell_type": "markdown",
   "metadata": {},
   "source": [
    "Notice that here we even get further information, that token \"happy\", has a polarity of -2.215 and that this includes the span (sequence of tokens) \"not very happy\"."
   ]
  },
  {
   "cell_type": "markdown",
   "metadata": {},
   "source": [
    "## Visualizing polarity\n",
    "Asent also include a series of methods to visualize the token polarity:\n"
   ]
  },
  {
   "cell_type": "code",
   "execution_count": 8,
   "metadata": {},
   "outputs": [
    {
     "output_type": "display_data",
     "data": {
      "text/plain": "<IPython.core.display.HTML object>",
      "text/html": "<span class=\"tex2jax_ignore\"><div class=\"entities\" style=\"line-height: 2.5; direction: ltr\">I am \n<mark class=\"entity\" style=\"background: #fba15b; padding: 0.45em 0.6em; margin: 0 0.25em; line-height: 1; border-radius: 0.35em;\">\n    not very happy\n    <span style=\"font-size: 0.8em; font-weight: bold; line-height: 1; border-radius: 0.35em; vertical-align: middle; margin-left: 0.5rem\">-2.2</span>\n</mark>\n.</div></span>"
     },
     "metadata": {}
    }
   ],
   "source": [
    "asent.visualize(doc)"
   ]
  },
  {
   "cell_type": "markdown",
   "metadata": {},
   "source": [
    "## Document and Span Polarity\n",
    "\n",
    "We want to do more than simply calculate the polarity of the token, we want to extract information about the entire sentence (span) and aggregate this across the entire document.\n",
    "\n",
    "<h3 align=\"center\">\n",
    "<figure>\n",
    "<img src=\"https://raw.githubusercontent.com/KennethEnevoldsen/asent/main/docs/img/doc_polarity.png\" width=\"600\" />\n",
    "</figure>\n",
    "  <small>\n",
    "  Figure 2: Calculation of document polarity\n",
    "  </small>\n",
    "</h3>\n",
    "\n",
    "The calculation of the sentence polarity includes a couple of steps. \n",
    "\n",
    "First, it checks if the sentence contains a contrastive conjugation (e.g. \"but\"), then overweighs things after the but and underweighs previous elements. This seems quite natural for e.g. the sentence \"The movie was great, but the acting was horrible\", where the second statement is noticeably more important. This has also been shown empirically by [(Hutto and Gilbert, 2014)](https://ojs.aaai.org/index.php/ICWSM/article/view/14550). \n",
    "\n",
    "Afterwards, the model takes into account question marks and exclamations marks, which both increase the polarity of the sentence – negative sentences become more negative and positive sentences become less negative. Lastly, the polarity is normalized between approximately -1 and 1.\n",
    "\n",
    "You can easily extract the sentence polarity and the document polarity using: "
   ]
  },
  {
   "cell_type": "code",
   "execution_count": 7,
   "metadata": {},
   "outputs": [
    {
     "name": "stdout",
     "output_type": "stream",
     "text": [
      "neg=0.391 neu=0.609 pos=0.0 compound=-0.4964 span=I am not very happy.\n"
     ]
    }
   ],
   "source": [
    "for sentence in doc.sents:\n",
    "    print(sentence._.polarity)"
   ]
  },
  {
   "cell_type": "code",
   "execution_count": 9,
   "metadata": {},
   "outputs": [
    {
     "output_type": "stream",
     "name": "stdout",
     "text": "neg=0.391 neu=0.609 pos=0.0 compound=-0.4964\n"
    }
   ],
   "source": [
    "# or for multiple sentences:\n",
    "print(doc._.polarity)"
   ]
  },
  {
   "cell_type": "markdown",
   "metadata": {},
   "source": [
    "Here we see the normalized score for both the `compound`, or aggregated, polarity as well the the neutral `neu`, negative `neg`, and positive `pos`."
   ]
  },
  {
   "cell_type": "markdown",
   "metadata": {},
   "source": []
  }
 ],
 "metadata": {
  "interpreter": {
   "hash": "4bf26e8f1c179b01cb59a2d6823fb6cd29f134e7c953e081ed300474f231d990"
  },
  "kernelspec": {
   "display_name": "Python 3.7.3 64-bit",
   "language": "python",
   "name": "python37364bitea3913c9f2b44bbd9c069f99a38e2e17"
  },
  "language_info": {
   "codemirror_mode": {
    "name": "ipython",
    "version": 3
   },
   "file_extension": ".py",
   "mimetype": "text/x-python",
   "name": "python",
   "nbconvert_exporter": "python",
   "pygments_lexer": "ipython3",
   "version": "3.7.3-final"
  },
  "orig_nbformat": 4
 },
 "nbformat": 4,
 "nbformat_minor": 2
}