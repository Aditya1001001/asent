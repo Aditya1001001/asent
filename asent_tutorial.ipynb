{
 "metadata": {
  "language_info": {
   "codemirror_mode": {
    "name": "ipython",
    "version": 3
   },
   "file_extension": ".py",
   "mimetype": "text/x-python",
   "name": "python",
   "nbconvert_exporter": "python",
   "pygments_lexer": "ipython3",
   "version": "3.8.12"
  },
  "orig_nbformat": 2,
  "kernelspec": {
   "name": "python3",
   "display_name": "Python 3.8.12 64-bit ('NLP': virtualenv)"
  },
  "interpreter": {
   "hash": "2136a9c3637fd160483224d7922e48bf03b650be5dff26724a0c1f8d1279953b"
  }
 },
 "nbformat": 4,
 "nbformat_minor": 2,
 "cells": [
  {
   "cell_type": "markdown",
   "source": [
    "# Using Asent\n",
    "\n",
    "Simplest use case"
   ],
   "metadata": {}
  },
  {
   "cell_type": "code",
   "execution_count": 2,
   "source": [
    "#import asent\n",
    "# nlp = spacy.load(...)\n",
    "# nlp = asent.add_sentiment(nlp, model=\"da_v1\")\n",
    "# doc = nlp(\"dette er dansk tekst\")\n",
    "\n",
    "# asent.visualize(doc, type=\"color\")\n",
    "# or\n",
    "# asent.displacy(doc, type=\"color\")\n",
    "# asent.displacy(doc, type=\"graph\")\n",
    "\n",
    "# extract token polarity\n",
    "# "
   ],
   "outputs": [],
   "metadata": {}
  },
  {
   "cell_type": "markdown",
   "source": [
    "# Customize your asent model or develop a new one\n",
    "How to create a custom model"
   ],
   "metadata": {}
  },
  {
   "cell_type": "markdown",
   "source": [],
   "metadata": {}
  }
 ]
}